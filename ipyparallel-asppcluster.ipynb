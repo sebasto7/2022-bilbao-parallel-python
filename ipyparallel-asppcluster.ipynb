{
 "cells": [
  {
   "cell_type": "markdown",
   "id": "d6f62134",
   "metadata": {},
   "source": [
    "- The ipyparallel controller creates two files which contain information how to connect to the controller (address and authentication secrets).\n",
    "- To to connect our engines and clients to the cluster, we need to copy those files to our local machine.\n",
    "- We use `rsync`.\n",
    "\n",
    "The address changes, so replace `1.2.3.4` by the address shown on the projector."
   ]
  },
  {
   "cell_type": "code",
   "execution_count": 1,
   "id": "0b675759",
   "metadata": {},
   "outputs": [
    {
     "name": "stdout",
     "output_type": "stream",
     "text": [
      "The authenticity of host '172.25.224.50 (172.25.224.50)' can't be established.\n",
      "ED25519 key fingerprint is SHA256:UPJArdVFh2z+vqTUJNA9s4/SqHydNQe59DQnT0wX0zc.\n",
      "This key is not known by any other names\n",
      "Are you sure you want to continue connecting (yes/no/[fingerprint])? ^C\n"
     ]
    }
   ],
   "source": [
    "!rsync -v 'student@172.25.224.50:.ipython/profile_default/security/ipcontroller-*.json' ~/.ipython/profile_default/security/"
   ]
  },
  {
   "cell_type": "markdown",
   "id": "ec86f1a7",
   "metadata": {},
   "source": [
    "Those files are just JSON. We can print them with syntax highlighting with `pygmentize`:"
   ]
  },
  {
   "cell_type": "code",
   "execution_count": 7,
   "id": "398e06db",
   "metadata": {},
   "outputs": [
    {
     "name": "stdout",
     "output_type": "stream",
     "text": [
      "{\u001b[37m\u001b[39;49;00m\n",
      "\u001b[37m  \u001b[39;49;00m\u001b[94m\"ssh\"\u001b[39;49;00m:\u001b[37m \u001b[39;49;00m\u001b[33m\"\"\u001b[39;49;00m,\u001b[37m\u001b[39;49;00m\n",
      "\u001b[37m  \u001b[39;49;00m\u001b[94m\"interface\"\u001b[39;49;00m:\u001b[37m \u001b[39;49;00m\u001b[33m\"tcp://127.0.0.1\"\u001b[39;49;00m,\u001b[37m\u001b[39;49;00m\n",
      "\u001b[37m  \u001b[39;49;00m\u001b[94m\"registration\"\u001b[39;49;00m:\u001b[37m \u001b[39;49;00m\u001b[34m36329\u001b[39;49;00m,\u001b[37m\u001b[39;49;00m\n",
      "\u001b[37m  \u001b[39;49;00m\u001b[94m\"control\"\u001b[39;49;00m:\u001b[37m \u001b[39;49;00m\u001b[34m35269\u001b[39;49;00m,\u001b[37m\u001b[39;49;00m\n",
      "\u001b[37m  \u001b[39;49;00m\u001b[94m\"mux\"\u001b[39;49;00m:\u001b[37m \u001b[39;49;00m\u001b[34m41693\u001b[39;49;00m,\u001b[37m\u001b[39;49;00m\n",
      "\u001b[37m  \u001b[39;49;00m\u001b[94m\"task\"\u001b[39;49;00m:\u001b[37m \u001b[39;49;00m\u001b[34m46365\u001b[39;49;00m,\u001b[37m\u001b[39;49;00m\n",
      "\u001b[37m  \u001b[39;49;00m\u001b[94m\"iopub\"\u001b[39;49;00m:\u001b[37m \u001b[39;49;00m\u001b[34m42197\u001b[39;49;00m,\u001b[37m\u001b[39;49;00m\n",
      "\u001b[37m  \u001b[39;49;00m\u001b[94m\"hb_ping\"\u001b[39;49;00m:\u001b[37m \u001b[39;49;00m\u001b[34m33049\u001b[39;49;00m,\u001b[37m\u001b[39;49;00m\n",
      "\u001b[37m  \u001b[39;49;00m\u001b[94m\"hb_pong\"\u001b[39;49;00m:\u001b[37m \u001b[39;49;00m\u001b[34m35829\u001b[39;49;00m,\u001b[37m\u001b[39;49;00m\n",
      "\u001b[37m  \u001b[39;49;00m\u001b[94m\"broadcast\"\u001b[39;49;00m:\u001b[37m \u001b[39;49;00m[\u001b[37m\u001b[39;49;00m\n",
      "\u001b[37m    \u001b[39;49;00m\u001b[34m35669\u001b[39;49;00m,\u001b[37m\u001b[39;49;00m\n",
      "\u001b[37m    \u001b[39;49;00m\u001b[34m51201\u001b[39;49;00m\u001b[37m\u001b[39;49;00m\n",
      "\u001b[37m  \u001b[39;49;00m],\u001b[37m\u001b[39;49;00m\n",
      "\u001b[37m  \u001b[39;49;00m\u001b[94m\"key\"\u001b[39;49;00m:\u001b[37m \u001b[39;49;00m\u001b[33m\"0b33925e-8a8f32fec28def32726bf6a5\"\u001b[39;49;00m,\u001b[37m\u001b[39;49;00m\n",
      "\u001b[37m  \u001b[39;49;00m\u001b[94m\"curve_serverkey\"\u001b[39;49;00m:\u001b[37m \u001b[39;49;00m\u001b[34mnull\u001b[39;49;00m,\u001b[37m\u001b[39;49;00m\n",
      "\u001b[37m  \u001b[39;49;00m\u001b[94m\"location\"\u001b[39;49;00m:\u001b[37m \u001b[39;49;00m\u001b[33m\"krowka\"\u001b[39;49;00m,\u001b[37m\u001b[39;49;00m\n",
      "\u001b[37m  \u001b[39;49;00m\u001b[94m\"pack\"\u001b[39;49;00m:\u001b[37m \u001b[39;49;00m\u001b[33m\"json\"\u001b[39;49;00m,\u001b[37m\u001b[39;49;00m\n",
      "\u001b[37m  \u001b[39;49;00m\u001b[94m\"unpack\"\u001b[39;49;00m:\u001b[37m \u001b[39;49;00m\u001b[33m\"json\"\u001b[39;49;00m,\u001b[37m\u001b[39;49;00m\n",
      "\u001b[37m  \u001b[39;49;00m\u001b[94m\"signature_scheme\"\u001b[39;49;00m:\u001b[37m \u001b[39;49;00m\u001b[33m\"hmac-sha256\"\u001b[39;49;00m\u001b[37m\u001b[39;49;00m\n",
      "}\u001b[37m\u001b[39;49;00m\n"
     ]
    }
   ],
   "source": [
    "!pygmentize ~/.ipython/profile_default/security/ipcontroller-engine.json "
   ]
  },
  {
   "cell_type": "code",
   "execution_count": 8,
   "id": "4e7e7548",
   "metadata": {},
   "outputs": [
    {
     "name": "stdout",
     "output_type": "stream",
     "text": [
      "{\u001b[37m\u001b[39;49;00m\n",
      "\u001b[37m  \u001b[39;49;00m\u001b[94m\"ssh\"\u001b[39;49;00m:\u001b[37m \u001b[39;49;00m\u001b[33m\"\"\u001b[39;49;00m,\u001b[37m\u001b[39;49;00m\n",
      "\u001b[37m  \u001b[39;49;00m\u001b[94m\"interface\"\u001b[39;49;00m:\u001b[37m \u001b[39;49;00m\u001b[33m\"tcp://127.0.0.1\"\u001b[39;49;00m,\u001b[37m\u001b[39;49;00m\n",
      "\u001b[37m  \u001b[39;49;00m\u001b[94m\"registration\"\u001b[39;49;00m:\u001b[37m \u001b[39;49;00m\u001b[34m36329\u001b[39;49;00m,\u001b[37m\u001b[39;49;00m\n",
      "\u001b[37m  \u001b[39;49;00m\u001b[94m\"control\"\u001b[39;49;00m:\u001b[37m \u001b[39;49;00m\u001b[34m38189\u001b[39;49;00m,\u001b[37m\u001b[39;49;00m\n",
      "\u001b[37m  \u001b[39;49;00m\u001b[94m\"mux\"\u001b[39;49;00m:\u001b[37m \u001b[39;49;00m\u001b[34m44557\u001b[39;49;00m,\u001b[37m\u001b[39;49;00m\n",
      "\u001b[37m  \u001b[39;49;00m\u001b[94m\"task\"\u001b[39;49;00m:\u001b[37m \u001b[39;49;00m\u001b[34m49299\u001b[39;49;00m,\u001b[37m\u001b[39;49;00m\n",
      "\u001b[37m  \u001b[39;49;00m\u001b[94m\"task_scheme\"\u001b[39;49;00m:\u001b[37m \u001b[39;49;00m\u001b[33m\"leastload\"\u001b[39;49;00m,\u001b[37m\u001b[39;49;00m\n",
      "\u001b[37m  \u001b[39;49;00m\u001b[94m\"iopub\"\u001b[39;49;00m:\u001b[37m \u001b[39;49;00m\u001b[34m45567\u001b[39;49;00m,\u001b[37m\u001b[39;49;00m\n",
      "\u001b[37m  \u001b[39;49;00m\u001b[94m\"notification\"\u001b[39;49;00m:\u001b[37m \u001b[39;49;00m\u001b[34m57511\u001b[39;49;00m,\u001b[37m\u001b[39;49;00m\n",
      "\u001b[37m  \u001b[39;49;00m\u001b[94m\"broadcast\"\u001b[39;49;00m:\u001b[37m \u001b[39;49;00m\u001b[34m38491\u001b[39;49;00m,\u001b[37m\u001b[39;49;00m\n",
      "\u001b[37m  \u001b[39;49;00m\u001b[94m\"key\"\u001b[39;49;00m:\u001b[37m \u001b[39;49;00m\u001b[33m\"0b33925e-8a8f32fec28def32726bf6a5\"\u001b[39;49;00m,\u001b[37m\u001b[39;49;00m\n",
      "\u001b[37m  \u001b[39;49;00m\u001b[94m\"curve_serverkey\"\u001b[39;49;00m:\u001b[37m \u001b[39;49;00m\u001b[34mnull\u001b[39;49;00m,\u001b[37m\u001b[39;49;00m\n",
      "\u001b[37m  \u001b[39;49;00m\u001b[94m\"location\"\u001b[39;49;00m:\u001b[37m \u001b[39;49;00m\u001b[33m\"krowka\"\u001b[39;49;00m,\u001b[37m\u001b[39;49;00m\n",
      "\u001b[37m  \u001b[39;49;00m\u001b[94m\"pack\"\u001b[39;49;00m:\u001b[37m \u001b[39;49;00m\u001b[33m\"json\"\u001b[39;49;00m,\u001b[37m\u001b[39;49;00m\n",
      "\u001b[37m  \u001b[39;49;00m\u001b[94m\"unpack\"\u001b[39;49;00m:\u001b[37m \u001b[39;49;00m\u001b[33m\"json\"\u001b[39;49;00m,\u001b[37m\u001b[39;49;00m\n",
      "\u001b[37m  \u001b[39;49;00m\u001b[94m\"signature_scheme\"\u001b[39;49;00m:\u001b[37m \u001b[39;49;00m\u001b[33m\"hmac-sha256\"\u001b[39;49;00m\u001b[37m\u001b[39;49;00m\n",
      "}\u001b[37m\u001b[39;49;00m\n"
     ]
    }
   ],
   "source": [
    "!pygmentize ~/.ipython/profile_default/security/ipcontroller-client.json "
   ]
  },
  {
   "cell_type": "markdown",
   "id": "84e30897",
   "metadata": {},
   "source": [
    "This starts `htop` in a terminal window to monitor running processes.\n",
    "\n",
    "If you prefer, start `htop` manually in some terminal window."
   ]
  },
  {
   "cell_type": "code",
   "execution_count": 9,
   "id": "947c063f",
   "metadata": {},
   "outputs": [
    {
     "name": "stdout",
     "output_type": "stream",
     "text": [
      "urxvt: unable to calculate font width for ':slant=0:weight=200:pixelsize=13:minspace=True:lang=he', using max_advance_width.\n"
     ]
    }
   ],
   "source": [
    "!bash -c 'urxvt -e htop & sleep 3'"
   ]
  },
  {
   "cell_type": "markdown",
   "id": "426de2d5",
   "metadata": {},
   "source": [
    "Now we start our ipcluster engines on the local machine.\n",
    "They will connect to the controller configured by the JSON `ipcontroller-engine.json`. "
   ]
  },
  {
   "cell_type": "code",
   "execution_count": 13,
   "id": "1c53490d",
   "metadata": {},
   "outputs": [],
   "source": [
    "!bash -c 'urxvt -e ipcluster engines & sleep 3'"
   ]
  },
  {
   "cell_type": "code",
   "execution_count": 14,
   "id": "97d4f69f",
   "metadata": {},
   "outputs": [],
   "source": [
    "import ipyparallel as ipp\n",
    "rc = ipp.Client()"
   ]
  },
  {
   "cell_type": "code",
   "execution_count": 15,
   "id": "58bf4407",
   "metadata": {},
   "outputs": [
    {
     "data": {
      "text/plain": [
       "[0,\n",
       " 1,\n",
       " 2,\n",
       " 3,\n",
       " 4,\n",
       " 5,\n",
       " 6,\n",
       " 7,\n",
       " 8,\n",
       " 9,\n",
       " 10,\n",
       " 11,\n",
       " 12,\n",
       " 13,\n",
       " 14,\n",
       " 15,\n",
       " 16,\n",
       " 17,\n",
       " 18,\n",
       " 19,\n",
       " 20,\n",
       " 21,\n",
       " 22,\n",
       " 23,\n",
       " 24,\n",
       " 25,\n",
       " 26,\n",
       " 27,\n",
       " 28,\n",
       " 29,\n",
       " 30,\n",
       " 31,\n",
       " 32,\n",
       " 33,\n",
       " 34,\n",
       " 35,\n",
       " 36,\n",
       " 37,\n",
       " 38,\n",
       " 39,\n",
       " 40,\n",
       " 41,\n",
       " 42,\n",
       " 43,\n",
       " 44,\n",
       " 45,\n",
       " 46,\n",
       " 47,\n",
       " 48,\n",
       " 49,\n",
       " 50,\n",
       " 51,\n",
       " 52,\n",
       " 53,\n",
       " 54,\n",
       " 55,\n",
       " 56,\n",
       " 57]"
      ]
     },
     "execution_count": 15,
     "metadata": {},
     "output_type": "execute_result"
    }
   ],
   "source": [
    "rc.ids"
   ]
  },
  {
   "cell_type": "code",
   "execution_count": 16,
   "id": "c1e90be3",
   "metadata": {},
   "outputs": [],
   "source": [
    "def hostname():\n",
    "    import socket\n",
    "    return socket.gethostname()"
   ]
  },
  {
   "cell_type": "code",
   "execution_count": 17,
   "id": "160fb302",
   "metadata": {},
   "outputs": [
    {
     "data": {
      "text/plain": [
       "['krowka',\n",
       " 'krowka',\n",
       " 'krowka',\n",
       " 'krowka',\n",
       " 'aspp07',\n",
       " 'aspp07',\n",
       " 'aspp07',\n",
       " 'aspp07',\n",
       " 'aspp02',\n",
       " 'aspp02',\n",
       " 'aspp02',\n",
       " 'aspp02',\n",
       " 'aspp15',\n",
       " 'aspp15',\n",
       " 'aspp15',\n",
       " 'aspp15',\n",
       " 'aspp16',\n",
       " 'aspp16',\n",
       " 'aspp16',\n",
       " 'aspp16',\n",
       " 'aspp01',\n",
       " 'aspp01',\n",
       " 'aspp01',\n",
       " 'aspp01',\n",
       " 'aspp04',\n",
       " 'aspp04',\n",
       " 'aspp04',\n",
       " 'aspp04',\n",
       " 'aspp12',\n",
       " 'aspp12',\n",
       " 'aspp12',\n",
       " 'aspp12',\n",
       " 'aspp10',\n",
       " 'aspp10',\n",
       " 'aspp05',\n",
       " 'aspp05',\n",
       " 'aspp05',\n",
       " 'aspp05',\n",
       " 'aspp08',\n",
       " 'aspp08',\n",
       " 'aspp08',\n",
       " 'aspp08',\n",
       " 'aspp03',\n",
       " 'aspp03',\n",
       " 'aspp03',\n",
       " 'aspp03',\n",
       " 'aspp05',\n",
       " 'aspp05',\n",
       " 'aspp05',\n",
       " 'aspp05',\n",
       " 'aspp05',\n",
       " 'aspp05',\n",
       " 'aspp05',\n",
       " 'aspp05',\n",
       " 'aspp14',\n",
       " 'aspp14',\n",
       " 'aspp14',\n",
       " 'aspp14']"
      ]
     },
     "execution_count": 17,
     "metadata": {},
     "output_type": "execute_result"
    }
   ],
   "source": [
    "rc[:].apply_sync(hostname)"
   ]
  },
  {
   "cell_type": "code",
   "execution_count": 18,
   "id": "eb1681dc",
   "metadata": {},
   "outputs": [],
   "source": [
    "def f(x):\n",
    "    return x**4 - 3*x"
   ]
  },
  {
   "cell_type": "code",
   "execution_count": 20,
   "id": "34488cc4",
   "metadata": {},
   "outputs": [],
   "source": [
    "def integrate(a, b, n):\n",
    "    dx = (b - a) / n\n",
    "    s = 0.0\n",
    "    x = a + 0.5 * dx\n",
    "    for i in range(n):\n",
    "        y = f(x)\n",
    "        s += y\n",
    "        x += dx\n",
    "    return s * dx\n",
    "\n",
    "\n",
    "\n"
   ]
  },
  {
   "cell_type": "code",
   "execution_count": 19,
   "id": "1a5af321",
   "metadata": {},
   "outputs": [
    {
     "data": {
      "text/plain": [
       "True"
      ]
     },
     "execution_count": 19,
     "metadata": {},
     "output_type": "execute_result"
    }
   ],
   "source": [
    "rc[:].push(dict(f=f)).wait()"
   ]
  },
  {
   "cell_type": "code",
   "execution_count": 24,
   "id": "db5428f4",
   "metadata": {},
   "outputs": [],
   "source": [
    "stepcounts = list(range(10_000, 20_000, 1000))\n",
    "a = [-2 for _ in stepcounts]\n",
    "b = [+2 for _ in stepcounts]"
   ]
  },
  {
   "cell_type": "code",
   "execution_count": 25,
   "id": "89fe86f2",
   "metadata": {},
   "outputs": [
    {
     "name": "stdout",
     "output_type": "stream",
     "text": [
      "34.7 ms ± 0 ns per loop (mean ± std. dev. of 1 run, 1 loop each)\n"
     ]
    }
   ],
   "source": [
    "%timeit -r 1 -n 1    list(map(integrate, a, b, stepcounts))"
   ]
  },
  {
   "cell_type": "code",
   "execution_count": 26,
   "id": "bd5254b1",
   "metadata": {},
   "outputs": [
    {
     "name": "stdout",
     "output_type": "stream",
     "text": [
      "10.5 s ± 0 ns per loop (mean ± std. dev. of 1 run, 1 loop each)\n"
     ]
    }
   ],
   "source": [
    "%timeit -r 1 -n 1    rc[:].map_sync(integrate, a, b, stepcounts)"
   ]
  },
  {
   "cell_type": "code",
   "execution_count": null,
   "id": "77d06f96",
   "metadata": {},
   "outputs": [],
   "source": []
  }
 ],
 "metadata": {
  "kernelspec": {
   "display_name": "Python 3.10.6 64-bit",
   "language": "python",
   "name": "python3"
  },
  "language_info": {
   "codemirror_mode": {
    "name": "ipython",
    "version": 3
   },
   "file_extension": ".py",
   "mimetype": "text/x-python",
   "name": "python",
   "nbconvert_exporter": "python",
   "pygments_lexer": "ipython3",
   "version": "3.10.6"
  },
  "vscode": {
   "interpreter": {
    "hash": "e7370f93d1d0cde622a1f8e1c04877d8463912d04d973331ad4851f04de6915a"
   }
  }
 },
 "nbformat": 4,
 "nbformat_minor": 5
}

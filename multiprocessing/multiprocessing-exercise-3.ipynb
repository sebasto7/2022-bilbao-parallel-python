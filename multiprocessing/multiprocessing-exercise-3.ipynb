{
 "cells": [
  {
   "cell_type": "markdown",
   "id": "824f3efc",
   "metadata": {},
   "source": [
    "### Step 0\n",
    "Implement your own compute-bound function, e.g., a function that computes the sum of cubes for a range of numbers using a for loop.\n",
    "\n",
    "Note: please do not use any external libraries or smart algorithms. ;)"
   ]
  },
  {
   "cell_type": "code",
   "execution_count": 5,
   "id": "8f545181",
   "metadata": {},
   "outputs": [
    {
     "name": "stdout",
     "output_type": "stream",
     "text": [
      "7.49999849999993e+26\n"
     ]
    }
   ],
   "source": [
    "def complex_cube(x):\n",
    "    return x * x * x * 0.3\n",
    "\n",
    "def crunch_numbers(num):\n",
    "    out = 0.0\n",
    "    for x in range(num):\n",
    "        out += complex_cube(x)\n",
    "    return out\n",
    "print(crunch_numbers(10_000_000))"
   ]
  },
  {
   "cell_type": "markdown",
   "id": "0965ca80",
   "metadata": {},
   "source": [
    "### Step 1\n",
    "Now you want to crunch numbers multiple times, e.g., for different ranges (`x` in the code above).\n",
    "\n",
    "Implement a serial version."
   ]
  },
  {
   "cell_type": "code",
   "execution_count": 6,
   "id": "63851d08",
   "metadata": {},
   "outputs": [
    {
     "data": {
      "text/plain": [
       "[6.074999595000501e+28, 7.49999849999993e+26, 1.919999904000333e+29]"
      ]
     },
     "execution_count": 6,
     "metadata": {},
     "output_type": "execute_result"
    }
   ],
   "source": [
    "input_data =  [30_000_000, 10_000_000, 40_000_000] # TODO a list of inputs for your `crunch_numbers` function\n",
    "\n",
    "list(map(crunch_numbers, input_data))\n"
   ]
  },
  {
   "cell_type": "code",
   "execution_count": 7,
   "id": "51cae945",
   "metadata": {},
   "outputs": [
    {
     "name": "stdout",
     "output_type": "stream",
     "text": [
      "CPU times: user 13.2 s, sys: 4 µs, total: 13.2 s\n",
      "Wall time: 13.3 s\n"
     ]
    },
    {
     "data": {
      "text/plain": [
       "[6.074999595000501e+28, 7.49999849999993e+26, 1.919999904000333e+29]"
      ]
     },
     "execution_count": 7,
     "metadata": {},
     "output_type": "execute_result"
    }
   ],
   "source": [
    "%%time\n",
    "# TODO implement a serial version\n",
    "list(map(crunch_numbers, input_data))"
   ]
  },
  {
   "cell_type": "markdown",
   "id": "ce8ac329",
   "metadata": {},
   "source": [
    "### Step 2\n",
    "\n",
    "Now use the `ThreadPool` to parallelize your code. Time it and compare execution times.\n",
    "\n",
    "Do you observe a speedup?"
   ]
  },
  {
   "cell_type": "code",
   "execution_count": 8,
   "id": "5a94fd97",
   "metadata": {},
   "outputs": [],
   "source": [
    "from multiprocessing.pool import ThreadPool"
   ]
  },
  {
   "cell_type": "code",
   "execution_count": 9,
   "id": "479aee0f",
   "metadata": {},
   "outputs": [
    {
     "name": "stdout",
     "output_type": "stream",
     "text": [
      "CPU times: user 13.3 s, sys: 34.7 ms, total: 13.3 s\n",
      "Wall time: 13.5 s\n"
     ]
    }
   ],
   "source": [
    "%%time\n",
    "# TODO implement a thread-parallel version\n",
    "with ThreadPool(processes=4) as pool:\n",
    "    results = pool.map(crunch_numbers, input_data)"
   ]
  },
  {
   "cell_type": "code",
   "execution_count": null,
   "id": "fa7a84ca",
   "metadata": {},
   "outputs": [],
   "source": [
    "results"
   ]
  }
 ],
 "metadata": {
  "kernelspec": {
   "display_name": "Python 3.10.6 64-bit",
   "language": "python",
   "name": "python3"
  },
  "language_info": {
   "codemirror_mode": {
    "name": "ipython",
    "version": 3
   },
   "file_extension": ".py",
   "mimetype": "text/x-python",
   "name": "python",
   "nbconvert_exporter": "python",
   "pygments_lexer": "ipython3",
   "version": "3.10.6"
  },
  "vscode": {
   "interpreter": {
    "hash": "e7370f93d1d0cde622a1f8e1c04877d8463912d04d973331ad4851f04de6915a"
   }
  }
 },
 "nbformat": 4,
 "nbformat_minor": 5
}

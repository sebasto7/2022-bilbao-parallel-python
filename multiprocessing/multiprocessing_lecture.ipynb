{
 "cells": [
  {
   "cell_type": "code",
   "execution_count": null,
   "id": "887ea1ff",
   "metadata": {},
   "outputs": [],
   "source": [
    "from unittest import result\n",
    "\n",
    "\n",
    "def compute_cubes(x):\n",
    "    return x*x*x\n",
    "\n",
    "inputes = [1,3,5,7]\n",
    "results = []\n",
    "for x in inputs:\n",
    "    results.append(compute_cubes(x))\n",
    "print(results)\n",
    "\n"
   ]
  },
  {
   "cell_type": "code",
   "execution_count": null,
   "id": "1efb3e85",
   "metadata": {},
   "outputs": [],
   "source": [
    "results = [compute_cubes(x) for x in inputs]"
   ]
  },
  {
   "cell_type": "code",
   "execution_count": null,
   "id": "c2ca91eb",
   "metadata": {},
   "outputs": [],
   "source": [
    "list(map(compute_cubes, inputs))"
   ]
  },
  {
   "cell_type": "code",
   "execution_count": null,
   "id": "d900ab56",
   "metadata": {},
   "outputs": [],
   "source": []
  }
 ],
 "metadata": {
  "kernelspec": {
   "display_name": "Python 3.10.6 64-bit",
   "language": "python",
   "name": "python3"
  },
  "language_info": {
   "codemirror_mode": {
    "name": "ipython",
    "version": 3
   },
   "file_extension": ".py",
   "mimetype": "text/x-python",
   "name": "python",
   "nbconvert_exporter": "python",
   "pygments_lexer": "ipython3",
   "version": "3.10.6"
  },
  "vscode": {
   "interpreter": {
    "hash": "e7370f93d1d0cde622a1f8e1c04877d8463912d04d973331ad4851f04de6915a"
   }
  }
 },
 "nbformat": 4,
 "nbformat_minor": 5
}

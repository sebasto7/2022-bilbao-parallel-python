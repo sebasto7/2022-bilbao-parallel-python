{
 "cells": [
  {
   "cell_type": "markdown",
   "id": "dd237c27",
   "metadata": {},
   "source": [
    "### Step 0\n",
    "\n",
    "Copy your compute-bound function and inputs from before."
   ]
  },
  {
   "cell_type": "code",
   "execution_count": 1,
   "id": "23a8b3e4",
   "metadata": {},
   "outputs": [],
   "source": [
    "def complex_cube(x):\n",
    "    return x * x * x * 0.3\n",
    "\n",
    "def crunch_numbers(num):\n",
    "    out = 0.0\n",
    "    for x in range(num):\n",
    "        out += complex_cube(x)\n",
    "    return out"
   ]
  },
  {
   "cell_type": "code",
   "execution_count": 2,
   "id": "7e72cc44",
   "metadata": {},
   "outputs": [],
   "source": [
    "input_data =  [30_000_000, 10_000_000, 40_000_000]  # TODO a list of inputs for your `crunch_numbers` function"
   ]
  },
  {
   "cell_type": "markdown",
   "id": "44f45416",
   "metadata": {},
   "source": [
    "### Step 1\n",
    "Use the `(Process)Pool` to parallelize your code. Time it and compare execution times."
   ]
  },
  {
   "cell_type": "code",
   "execution_count": 3,
   "id": "2727d479",
   "metadata": {},
   "outputs": [],
   "source": [
    "from multiprocessing.pool import Pool as ProcessPool"
   ]
  },
  {
   "cell_type": "code",
   "execution_count": 4,
   "id": "2f940649",
   "metadata": {},
   "outputs": [
    {
     "name": "stdout",
     "output_type": "stream",
     "text": [
      "CPU times: user 4.94 ms, sys: 9.72 ms, total: 14.7 ms\n",
      "Wall time: 8.59 s\n"
     ]
    }
   ],
   "source": [
    "%%time\n",
    "# TODO implement a thread-parallel version\n",
    "with ProcessPool(processes=4) as pool:\n",
    "    results = pool.map(crunch_numbers, input_data)"
   ]
  },
  {
   "cell_type": "markdown",
   "id": "67cea647",
   "metadata": {},
   "source": [
    "### Step 2\n",
    "Now, compare its runtime for different numbers of processes."
   ]
  },
  {
   "cell_type": "code",
   "execution_count": 11,
   "id": "7457b398",
   "metadata": {},
   "outputs": [
    {
     "data": {
      "text/plain": [
       "[3.9823663234710693,\n",
       " 2.1604981422424316,\n",
       " 2.2976396083831787,\n",
       " 2.5617339611053467,\n",
       " 2.4599342346191406,\n",
       " 2.3868157863616943,\n",
       " 2.35048508644104,\n",
       " 2.408477306365967]"
      ]
     },
     "execution_count": 11,
     "metadata": {},
     "output_type": "execute_result"
    }
   ],
   "source": [
    "from multiprocessing.pool import Pool as ProcessPool\n",
    "import time\n",
    "import numpy as np\n",
    "\n",
    "# TODO replace with meaningful input to your function; keep in mind\n",
    "# that the \"load\" on each process should be approximately balanced\n",
    "# to observe (close to) ideal speedups\n",
    "input_data = [3_000_000, 1_000_000, 4_000_000, 3_000_000, 1_000_000, 4_000_000, 3_000_000, 1_000_000, 4_000_000]\n",
    "\n",
    "n_processes = np.arange(1, 9)\n",
    "times = []\n",
    "for n in n_processes:\n",
    "    t0 = time.time()\n",
    "    # TODO implement process-parallel number crunching using a `ProcessPool` **here**\n",
    "    with ProcessPool(processes=n) as pool:\n",
    "        results = pool.map(crunch_numbers, input_data)\n",
    "    times.append(time.time() - t0)\n",
    "\n",
    "times"
   ]
  },
  {
   "cell_type": "code",
   "execution_count": 12,
   "id": "d7927018",
   "metadata": {},
   "outputs": [
    {
     "data": {
      "text/plain": [
       "<matplotlib.legend.Legend at 0x7f9ab6ace350>"
      ]
     },
     "execution_count": 12,
     "metadata": {},
     "output_type": "execute_result"
    },
    {
     "data": {
      "image/png": "[encoded data removed]",
      "text/plain": [
       "<Figure size 432x288 with 1 Axes>"
      ]
     },
     "metadata": {
      "needs_background": "light"
     },
     "output_type": "display_data"
    }
   ],
   "source": [
    "# TODO execute me after the cell above\n",
    "import matplotlib.pyplot as plt\n",
    "import numpy as np\n",
    "\n",
    "times = np.array(times)\n",
    "fig, axes = plt.subplots()\n",
    "axes.plot(n_processes, 1.0 * n_processes, color='k', linestyle='--', label='ideal')\n",
    "axes.plot(n_processes, times[0] / times, marker='o', label='measured')\n",
    "axes.set_xlabel(r'$n$ processes')\n",
    "axes.set_ylabel('relative speedup')\n",
    "fig.legend()"
   ]
  },
  {
   "cell_type": "markdown",
   "id": "cecfc7d1",
   "metadata": {},
   "source": [
    "### Step 3 (bonus exercise)\n",
    "Investigate the speedup for\n",
    "- short compute-bound functions, i.e., when a single function call doesn't take much time\n",
    "- unbalanced problems, i.e., scenarios in which most results are fast to compute, but some take long\n",
    "\n",
    "Discuss."
   ]
  }
 ],
 "metadata": {
  "kernelspec": {
   "display_name": "Python 3.10.6 64-bit",
   "language": "python",
   "name": "python3"
  },
  "language_info": {
   "codemirror_mode": {
    "name": "ipython",
    "version": 3
   },
   "file_extension": ".py",
   "mimetype": "text/x-python",
   "name": "python",
   "nbconvert_exporter": "python",
   "pygments_lexer": "ipython3",
   "version": "3.10.6"
  },
  "vscode": {
   "interpreter": {
    "hash": "e7370f93d1d0cde622a1f8e1c04877d8463912d04d973331ad4851f04de6915a"
   }
  }
 },
 "nbformat": 4,
 "nbformat_minor": 5
}

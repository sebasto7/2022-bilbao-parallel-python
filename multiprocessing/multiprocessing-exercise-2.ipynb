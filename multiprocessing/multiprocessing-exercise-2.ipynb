{
 "cells": [
  {
   "cell_type": "markdown",
   "id": "bb3a24c6",
   "metadata": {},
   "source": [
    "Let's go back to the authentication library you wrote in the beginning of the week. Before trying to authenticate a user, it's a good idea to first check whether an account with a given username exists. Here we mimick this check.\n",
    "\n",
    "First import `auth` and check the arguments and return value of the function `check_user_exists`."
   ]
  },
  {
   "cell_type": "code",
   "execution_count": 1,
   "id": "192019fe",
   "metadata": {},
   "outputs": [
    {
     "name": "stdout",
     "output_type": "stream",
     "text": [
      "Help on function check_user_exists in module auth:\n",
      "\n",
      "check_user_exists(username)\n",
      "    Check whether a user with `username` exists in the database.\n",
      "    \n",
      "    Parameters\n",
      "    ----------\n",
      "    username : str\n",
      "        Username to check.\n",
      "    \n",
      "    Returns\n",
      "    -------\n",
      "    bool\n",
      "        Whether the user exists in the database.\n",
      "\n"
     ]
    }
   ],
   "source": [
    "import auth\n",
    "help(auth.check_user_exists)"
   ]
  },
  {
   "cell_type": "markdown",
   "id": "91616f28",
   "metadata": {},
   "source": [
    "### Step 0\n",
    "Implement a serial version using `map`, processing several (4+) usernames. Time it."
   ]
  },
  {
   "cell_type": "code",
   "execution_count": 2,
   "id": "28f7f9fb",
   "metadata": {},
   "outputs": [
    {
     "name": "stdout",
     "output_type": "stream",
     "text": [
      "..............CPU times: user 13.8 ms, sys: 3.54 ms, total: 17.4 ms\n",
      "Wall time: 14 s\n"
     ]
    }
   ],
   "source": [
    "%%time\n",
    "usernames = [\"Tom\", \"Lisa\", \"Sam\", \"Marc\"]  # TODO add some usernames\n",
    "# TODO implement a serial version\n",
    "results = list(map(auth.check_user_exists, usernames))"
   ]
  },
  {
   "cell_type": "code",
   "execution_count": 3,
   "id": "1a924551",
   "metadata": {},
   "outputs": [
    {
     "data": {
      "text/plain": [
       "[False, False, False, False]"
      ]
     },
     "execution_count": 3,
     "metadata": {},
     "output_type": "execute_result"
    }
   ],
   "source": [
    "results"
   ]
  },
  {
   "cell_type": "markdown",
   "id": "2dbda9fc",
   "metadata": {},
   "source": [
    "### Step 1\n",
    "Use the `ThreadPool` to parallelize your code. Time it and compare execution times."
   ]
  },
  {
   "cell_type": "code",
   "execution_count": 6,
   "id": "54f45ec7",
   "metadata": {},
   "outputs": [],
   "source": [
    "from multiprocessing.pool import ThreadPool"
   ]
  },
  {
   "cell_type": "code",
   "execution_count": 4,
   "id": "0c085807",
   "metadata": {},
   "outputs": [
    {
     "data": {
      "text/plain": [
       "4"
      ]
     },
     "execution_count": 4,
     "metadata": {},
     "output_type": "execute_result"
    }
   ],
   "source": [
    "import multiprocessing\n",
    "multiprocessing.cpu_count()"
   ]
  },
  {
   "cell_type": "code",
   "execution_count": 7,
   "id": "9d86ecd1",
   "metadata": {},
   "outputs": [
    {
     "name": "stdout",
     "output_type": "stream",
     "text": [
      "..............CPU times: user 13.4 ms, sys: 5.01 ms, total: 18.4 ms\n",
      "Wall time: 4.01 s\n"
     ]
    }
   ],
   "source": [
    "%%time\n",
    "# TODO implement a thread-parallel version\n",
    "usernames = [\"Tom\", \"Lisa\", \"Sam\", \"Marc\"]  # TODO add some usernames\n",
    "with ThreadPool(processes=4) as pool:\n",
    "    results = pool.map(auth.check_user_exists, usernames)    "
   ]
  },
  {
   "cell_type": "code",
   "execution_count": 8,
   "id": "a5341992",
   "metadata": {},
   "outputs": [
    {
     "name": "stdout",
     "output_type": "stream",
     "text": [
      "................................CPU times: user 29.7 ms, sys: 5.17 ms, total: 34.9 ms\n",
      "Wall time: 9.02 s\n"
     ]
    }
   ],
   "source": [
    "%%time\n",
    "# TODO implement a thread-parallel version\n",
    "usernames = [\"Tom\", \"Lisa\", \"Sam\", \"Marc\",\"Tom2\", \"Lisa2\", \"Sam2\", \"Marc2\" ]  # TODO add some usernames\n",
    "with ThreadPool(processes=4) as pool:\n",
    "    results = pool.map(auth.check_user_exists, usernames)   "
   ]
  },
  {
   "cell_type": "code",
   "execution_count": 9,
   "id": "4ce5ad11",
   "metadata": {},
   "outputs": [
    {
     "name": "stdout",
     "output_type": "stream",
     "text": [
      "........................................CPU times: user 34.4 ms, sys: 7.85 ms, total: 42.2 ms\n",
      "Wall time: 15 s\n"
     ]
    }
   ],
   "source": [
    "%%time\n",
    "# TODO implement a thread-parallel version\n",
    "usernames = [\"Tom\", \"Lisa\", \"Sam\", \"Marc\",\"Tom2\", \"Lisa2\", \"Sam2\", \"Marc2\" , \"Outsider\"]  # TODO add some usernames\n",
    "with ThreadPool(processes=4) as pool:\n",
    "    results = pool.map(auth.check_user_exists, usernames)   "
   ]
  },
  {
   "cell_type": "code",
   "execution_count": 10,
   "id": "cbd58982",
   "metadata": {},
   "outputs": [
    {
     "name": "stdout",
     "output_type": "stream",
     "text": [
      "........................................CPU times: user 29.3 ms, sys: 3.67 ms, total: 32.9 ms\n",
      "Wall time: 12 s\n"
     ]
    }
   ],
   "source": [
    "%%time\n",
    "# TODO implement a thread-parallel version\n",
    "usernames = [\"Outsider\",\"Tom\", \"Lisa\", \"Sam\", \"Marc\",\"Tom2\", \"Lisa2\", \"Sam2\", \"Marc2\"]   # TODO add some usernames\n",
    "with ThreadPool(processes=4) as pool:\n",
    "    results = pool.map(auth.check_user_exists, usernames)   "
   ]
  },
  {
   "cell_type": "code",
   "execution_count": null,
   "id": "b8aa59fc",
   "metadata": {},
   "outputs": [],
   "source": []
  }
 ],
 "metadata": {
  "kernelspec": {
   "display_name": "Python 3.10.6 64-bit",
   "language": "python",
   "name": "python3"
  },
  "language_info": {
   "codemirror_mode": {
    "name": "ipython",
    "version": 3
   },
   "file_extension": ".py",
   "mimetype": "text/x-python",
   "name": "python",
   "nbconvert_exporter": "python",
   "pygments_lexer": "ipython3",
   "version": "3.10.6"
  },
  "vscode": {
   "interpreter": {
    "hash": "e7370f93d1d0cde622a1f8e1c04877d8463912d04d973331ad4851f04de6915a"
   }
  }
 },
 "nbformat": 4,
 "nbformat_minor": 5
}

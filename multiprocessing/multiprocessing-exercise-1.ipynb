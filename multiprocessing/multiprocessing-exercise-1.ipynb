{
 "cells": [
  {
   "cell_type": "markdown",
   "id": "7e589ef3",
   "metadata": {},
   "source": [
    "### Step 0\n",
    "Compute the cubes of numbers 0..9 with a for loop."
   ]
  },
  {
   "cell_type": "code",
   "execution_count": 1,
   "id": "656b87a0",
   "metadata": {},
   "outputs": [
    {
     "name": "stdout",
     "output_type": "stream",
     "text": [
      "[0, 1, 8, 27, 64, 125, 216, 343, 512, 729]\n"
     ]
    }
   ],
   "source": [
    "input_data = range(10)\n",
    "# TODO compute cubes\n",
    "cubes = []\n",
    "for x in input_data:\n",
    "    cube = x*x*x\n",
    "    cubes.append(cube)\n",
    "print(cubes)\n"
   ]
  },
  {
   "cell_type": "markdown",
   "id": "db482f32",
   "metadata": {},
   "source": [
    "### Step 1\n",
    "Compute the cubes of numbers 0..9 using list comprehension."
   ]
  },
  {
   "cell_type": "code",
   "execution_count": 2,
   "id": "ee88a6ac",
   "metadata": {},
   "outputs": [
    {
     "name": "stdout",
     "output_type": "stream",
     "text": [
      "[0, 1, 8, 27, 64, 125, 216, 343, 512, 729]\n"
     ]
    }
   ],
   "source": [
    "input_data = range(10)\n",
    "# TODO compute cubes\n",
    "cubes = [x*x*x for x in input_data]\n",
    "print(cubes)"
   ]
  },
  {
   "cell_type": "markdown",
   "id": "d1d1e41c",
   "metadata": {},
   "source": [
    "### Step 2\n",
    "Compute the cubes of numbers 0..9 using map."
   ]
  },
  {
   "cell_type": "code",
   "execution_count": 5,
   "id": "b3e934a0",
   "metadata": {},
   "outputs": [
    {
     "name": "stdout",
     "output_type": "stream",
     "text": [
      "[0, 1, 8, 27, 64, 125, 216, 343, 512, 729]\n"
     ]
    }
   ],
   "source": [
    "input_data = range(10)\n",
    "# TODO compute cubes\n",
    "cubes = list(map(lambda x: x*x*x, input_data))\n",
    "print(cubes)"
   ]
  },
  {
   "cell_type": "code",
   "execution_count": null,
   "id": "a681f73d",
   "metadata": {},
   "outputs": [],
   "source": []
  }
 ],
 "metadata": {
  "kernelspec": {
   "display_name": "Python 3.10.6 64-bit",
   "language": "python",
   "name": "python3"
  },
  "language_info": {
   "codemirror_mode": {
    "name": "ipython",
    "version": 3
   },
   "file_extension": ".py",
   "mimetype": "text/x-python",
   "name": "python",
   "nbconvert_exporter": "python",
   "pygments_lexer": "ipython3",
   "version": "3.10.6"
  },
  "vscode": {
   "interpreter": {
    "hash": "e7370f93d1d0cde622a1f8e1c04877d8463912d04d973331ad4851f04de6915a"
   }
  }
 },
 "nbformat": 4,
 "nbformat_minor": 5
}
